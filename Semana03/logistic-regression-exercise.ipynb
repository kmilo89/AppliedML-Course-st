{
 "cells": [
  {
   "cell_type": "markdown",
   "metadata": {},
   "source": [
    "## Ejercicio Regresión Logistica"
   ]
  },
  {
   "cell_type": "markdown",
   "metadata": {},
   "source": [
    "Objetivo del ejercicio\n",
    "\n",
    "Construir un modelo que prediga si un estudiante será admitido en una universidad basándose en las calificaciones de dos exámenes.\n",
    "\n",
    "Un grupo de estudiantes presentó dos exámenes de admisión, y cada estudiante fue admitido (1) o no admitido (0) en la universidad.\n",
    "\n",
    "Pasos a seguir:\n",
    "\n",
    "1. Generar datos sintéticos: Simular puntuaciones en dos exámenes y el resultado de admisión.\n",
    "2. Dividir los datos en entrenamiento y prueba.\n",
    "3. Entrenar un modelo de regresión logística usando LogisticRegression de sklearn.\n",
    "4. Evaluar el modelo con una matriz de confusión y métricas de clasificación.\n",
    "5. Visualizar la frontera de decisión."
   ]
  },
  {
   "cell_type": "code",
   "execution_count": null,
   "metadata": {},
   "outputs": [],
   "source": [
    "import numpy as np\n",
    "import matplotlib.pyplot as plt\n",
    "from sklearn.model_selection import train_test_split\n",
    "from sklearn.linear_model import LogisticRegression\n",
    "from sklearn.metrics import accuracy_score, confusion_matrix, classification_report"
   ]
  },
  {
   "cell_type": "code",
   "execution_count": null,
   "metadata": {},
   "outputs": [],
   "source": [
    "# Generar datos sintéticos (calificaciones en dos exámenes y admisión)\n",
    "np.random.seed(42)\n",
    "num_muestras = 500\n",
    "\n",
    "exam1_scores = np.random.randint(40, 100, size=(num_muestras, 1))  # Examen 1 (40-100)\n",
    "exam2_scores = np.random.randint(40, 100, size=(num_muestras, 1))  # Examen 2 (40-100)\n"
   ]
  },
  {
   "cell_type": "code",
   "execution_count": null,
   "metadata": {},
   "outputs": [],
   "source": [
    "# Crear variable objetivo (1 = Admitido, 0 = No Admitido) basado en una combinación de notas\n"
   ]
  },
  {
   "cell_type": "code",
   "execution_count": null,
   "metadata": {},
   "outputs": [],
   "source": [
    "# Dividir los datos en entrenamiento y prueba (80% - 20%)\n"
   ]
  },
  {
   "cell_type": "code",
   "execution_count": null,
   "metadata": {},
   "outputs": [],
   "source": [
    "# Inicializar y entrenar el modelo de regresión logística\n"
   ]
  },
  {
   "cell_type": "code",
   "execution_count": null,
   "metadata": {},
   "outputs": [],
   "source": [
    "# Realizar predicciones\n"
   ]
  },
  {
   "cell_type": "code",
   "execution_count": null,
   "metadata": {},
   "outputs": [],
   "source": [
    "# Evaluar el modelo\n",
    "accuracy = accuracy_score(y_test, y_pred)\n",
    "conf_matrix = confusion_matrix(y_test, y_pred)\n",
    "class_report = classification_report(y_test, y_pred)\n",
    "\n",
    "print(f\"Precisión del modelo: {accuracy:.2f}\")\n",
    "print(\"\\nMatriz de Confusión:\")\n",
    "print(conf_matrix)\n",
    "print(\"\\nReporte de Clasificación:\")\n",
    "print(class_report)"
   ]
  },
  {
   "cell_type": "code",
   "execution_count": null,
   "metadata": {},
   "outputs": [],
   "source": [
    "# Visualizar la frontera de decisión\n",
    "plt.figure(figsize=(8, 5))\n",
    "plt.scatter(X_test[:, 0], X_test[:, 1], c=y_test, cmap='coolwarm', label=\"Datos de prueba\")\n",
    "plt.xlabel(\"Calificación Examen 1\")\n",
    "plt.ylabel(\"Calificación Examen 2\")\n",
    "plt.title(\"Clasificación de Admisión con Regresión Logística\")\n",
    "#plt.legend()\n",
    "plt.colorbar(label=\"Clase (0 = No Admitido, 1 = Admitido)\")\n",
    "plt.grid(True)\n",
    "plt.show()"
   ]
  },
  {
   "cell_type": "markdown",
   "metadata": {},
   "source": [
    "### Preguntas"
   ]
  },
  {
   "cell_type": "markdown",
   "metadata": {},
   "source": [
    "1. ¿Cómo afecta el número de datos al rendimiento del modelo?\n",
    "\n",
    "2. ¿Qué pasa si cambiamos el umbral de admisión de 75 a 80?\n",
    "\n",
    "3. Resolver el problema de desbalance de clases en la predicción de admisión."
   ]
  },
  {
   "cell_type": "code",
   "execution_count": null,
   "metadata": {},
   "outputs": [],
   "source": [
    "# Función auxiliar para graficar la frontera de decisión:\n",
    "from matplotlib.colors import ListedColormap\n",
    "def plot_binary_classifcation(X, y, classifier=None, contour_alpha=0.1):\n",
    "    \n",
    "    def compute_predictions(X, classifier):\n",
    "        return classifier.predict(X)\n",
    "    \n",
    "    cmap = ListedColormap(['#FF0000', '#0000FF'])\n",
    "    # plot the decision surface\n",
    "    x1_min, x1_max = X[:, 0].min() - 0.2, X[:, 0].max() + 0.2\n",
    "    x2_min, x2_max = X[:, 1].min() - 0.2, X[:, 1].max() + 0.2\n",
    "    \n",
    "    xx1, xx2 = np.meshgrid(\n",
    "        np.arange(x1_min, x1_max, 0.01), np.arange(x2_min, x2_max, 0.01)\n",
    "    )\n",
    "    \n",
    "    fig, ax = plt.subplots()\n",
    "    \n",
    "    if classifier is not None:\n",
    "        X_ = np.array([xx1.ravel(), xx2.ravel()]).T\n",
    "    \n",
    "        z = compute_predictions(X_, classifier)\n",
    "        z = np.reshape(z, xx1.shape)\n",
    "        ax.contourf(xx1, xx2, z, alpha=contour_alpha, cmap=cmap)\n",
    "    \n",
    "    ax.set_xlim(xx1.min(), xx1.max())\n",
    "    ax.set_ylim(xx2.min(), xx2.max())\n",
    "    \n",
    "    ax.scatter(X[:,0], X[:,1], c=y, cmap=cmap)\n",
    "    \n",
    "    fig.set_size_inches(1.6*5, 5)"
   ]
  },
  {
   "cell_type": "code",
   "execution_count": null,
   "metadata": {},
   "outputs": [],
   "source": [
    "# Grafiquemos los datos junto con la frontera de decisión del modelo:\n",
    "plot_binary_classifcation(X, y, classifier=model)"
   ]
  }
 ],
 "metadata": {
  "kernelspec": {
   "display_name": ".venv",
   "language": "python",
   "name": "python3"
  },
  "language_info": {
   "codemirror_mode": {
    "name": "ipython",
    "version": 3
   },
   "file_extension": ".py",
   "mimetype": "text/x-python",
   "name": "python",
   "nbconvert_exporter": "python",
   "pygments_lexer": "ipython3",
   "version": "3.10.12"
  }
 },
 "nbformat": 4,
 "nbformat_minor": 2
}
