{
 "cells": [
  {
   "cell_type": "markdown",
   "metadata": {},
   "source": [
    "# ¿Qué es k-NN?\n",
    "\n",
    "k-Nearest Neighbors es un algoritmo basado en instancias, que no aprende una función explícita durante el entrenamiento. En vez de eso:\n",
    "\n",
    "Para predecir la etiqueta de un nuevo punto, simplemente busca los k puntos más cercanos en el conjunto de entrenamiento.\n",
    "\n",
    "Luego, vota (clasificación) o promedia (regresión) las etiquetas de esos vecinos."
   ]
  },
  {
   "cell_type": "markdown",
   "metadata": {},
   "source": [
    "## Importar Librerias"
   ]
  },
  {
   "cell_type": "code",
   "execution_count": null,
   "metadata": {},
   "outputs": [],
   "source": [
    "from sklearn.datasets import make_classification\n",
    "from sklearn.model_selection import train_test_split\n",
    "from sklearn.pipeline import Pipeline\n",
    "from sklearn.preprocessing import StandardScaler\n",
    "from sklearn.neighbors import KNeighborsClassifier\n",
    "from sklearn.metrics import ConfusionMatrixDisplay, accuracy_score\n",
    "import matplotlib.pyplot as plt\n",
    "import seaborn as sns\n",
    "import pandas as pd\n",
    "import numpy as np\n",
    "from matplotlib.patches import Circle"
   ]
  },
  {
   "cell_type": "markdown",
   "metadata": {},
   "source": [
    "## Generar un dataset sintético\n",
    "Datos artificiales que simulan problemas de clasificación.\n",
    "\n",
    "- n_samples=200: Genera 200 ejemplos o filas (puntos de datos).\n",
    "- n_features=2:Cada ejemplo tiene 2 características (columnas), es decir, X.shape = (200, 2).\n",
    "- n_informative=2: Las 2 características realmente contienen información útil para separar las clases.\n",
    "- n_redundant=0: No se incluyen características redundantes (combinaciones lineales de las informativas).\n",
    "- n_clusters_per_class=1: Cada clase se genera a partir de 1 grupo o clúster (simplifica la visualización).\n",
    "- random_state=42: Semilla para que el resultado sea reproducible (siempre se generan los mismos datos).\n"
   ]
  },
  {
   "cell_type": "code",
   "execution_count": null,
   "metadata": {},
   "outputs": [],
   "source": [
    "# Generar 200 muestras de 2 caracteristicas, ambas información útil, no redundante, con 1 cluster por clase.\n"
   ]
  },
  {
   "cell_type": "markdown",
   "metadata": {},
   "source": [
    "## Visualización de los datos"
   ]
  },
  {
   "cell_type": "code",
   "execution_count": null,
   "metadata": {},
   "outputs": [],
   "source": [
    "# Generar grafica de dispersión \n"
   ]
  },
  {
   "cell_type": "markdown",
   "metadata": {},
   "source": [
    "# Dividir en entrenamiento y prueba"
   ]
  },
  {
   "cell_type": "code",
   "execution_count": null,
   "metadata": {},
   "outputs": [],
   "source": []
  },
  {
   "cell_type": "markdown",
   "metadata": {},
   "source": [
    "## Establecer el Pipeline de estandarización y clasificación"
   ]
  },
  {
   "cell_type": "code",
   "execution_count": null,
   "metadata": {},
   "outputs": [],
   "source": []
  },
  {
   "cell_type": "markdown",
   "metadata": {},
   "source": [
    "## Entrenar el modelo k-NN"
   ]
  },
  {
   "cell_type": "code",
   "execution_count": null,
   "metadata": {},
   "outputs": [],
   "source": []
  },
  {
   "cell_type": "markdown",
   "metadata": {},
   "source": [
    "## Evaluar"
   ]
  },
  {
   "cell_type": "code",
   "execution_count": null,
   "metadata": {},
   "outputs": [],
   "source": [
    "# Confusion Matrix"
   ]
  },
  {
   "cell_type": "code",
   "execution_count": null,
   "metadata": {},
   "outputs": [],
   "source": [
    "#Accuracy"
   ]
  },
  {
   "cell_type": "markdown",
   "metadata": {},
   "source": [
    "## Visualización de la frontera de decisión"
   ]
  },
  {
   "cell_type": "code",
   "execution_count": null,
   "metadata": {},
   "outputs": [],
   "source": [
    "h = .02\n",
    "x_min, x_max = X[:, 0].min() - .5, X[:, 0].max() + .5\n",
    "y_min, y_max = X[:, 1].min() - .5, X[:, 1].max() + .5\n",
    "xx, yy = np.meshgrid(np.arange(x_min, x_max, h), np.arange(y_min, y_max, h))\n",
    "Z = pipe.predict(np.c_[xx.ravel(), yy.ravel()])\n",
    "Z = Z.reshape(xx.shape)\n",
    "plt.figure(figsize=(8,6))\n",
    "plt.contourf(xx, yy, Z, cmap=plt.cm.coolwarm, alpha=0.4)\n",
    "sns.scatterplot(x=X[:, 0], y=X[:, 1], hue=y, edgecolor='k')\n",
    "plt.title(\"Frontera de decisión k-NN\")\n",
    "plt.show()\n"
   ]
  },
  {
   "cell_type": "markdown",
   "metadata": {},
   "source": [
    "## Visualización del proceso de votación para un nuevo punto"
   ]
  },
  {
   "cell_type": "code",
   "execution_count": null,
   "metadata": {},
   "outputs": [],
   "source": [
    "index = 0\n",
    "punto_test = X_test[index].reshape(1, -1)\n",
    "distancias = np.linalg.norm(X_train - X_test[index], axis=1)\n",
    "indices_vecinos = distancias.argsort()[:5]"
   ]
  },
  {
   "cell_type": "code",
   "execution_count": null,
   "metadata": {},
   "outputs": [],
   "source": [
    "plt.figure(figsize=(8,6))\n",
    "sns.scatterplot(x=X[:, 0], y=X[:, 1], hue=y, edgecolor='k')\n",
    "plt.scatter(*punto_test[0], color='black', label='Punto a predecir', s=100, marker='X')\n",
    "for i in indices_vecinos:\n",
    "    vecino = X_train[i].reshape(1, -1)\n",
    "    circulo = Circle(punto_test[0], radius=np.linalg.norm(punto_test - vecino), fill=False, color='gray', linestyle='--', linewidth=1)\n",
    "    plt.gca().add_patch(circulo)\n",
    "plt.title(\"Vecinos más cercanos y proceso de votación\")\n",
    "plt.legend()\n",
    "plt.show()"
   ]
  },
  {
   "cell_type": "markdown",
   "metadata": {},
   "source": [
    "## Ejercicios:\n",
    "- Cambiar el valor de k y observar cómo cambia la frontera y las métricas.\n",
    "- Probar con el dataset Iris usando solo 2 características.\n",
    "- Agregar ruido al dataset y observar el impacto en la clasificación."
   ]
  }
 ],
 "metadata": {
  "kernelspec": {
   "display_name": ".venv",
   "language": "python",
   "name": "python3"
  },
  "language_info": {
   "codemirror_mode": {
    "name": "ipython",
    "version": 3
   },
   "file_extension": ".py",
   "mimetype": "text/x-python",
   "name": "python",
   "nbconvert_exporter": "python",
   "pygments_lexer": "ipython3",
   "version": "3.10.12"
  }
 },
 "nbformat": 4,
 "nbformat_minor": 2
}
