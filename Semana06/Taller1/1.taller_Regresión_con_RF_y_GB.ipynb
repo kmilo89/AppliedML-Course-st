{
  "cells": [
    {
      "cell_type": "markdown",
      "metadata": {
        "id": "wEkt4QfS1jcl"
      },
      "source": [
        "# Taller 1: Regresión con Random Forest y Gradient Boosting\n"
      ]
    },
    {
      "cell_type": "markdown",
      "metadata": {
        "id": "y2QlBcV01jcm"
      },
      "source": [
        "En este taller se aplicará ensambes de árboles de decisión tipo random forest y gradient boosting a un conjunto de datos de jugadores del video juego FIFA 19. Los datos utilizados son un subconjunto modificado de los dataset de Kaggle de FIFA 19 y se encuentran en el archivo `players.csv`. La tarea a realizar consiste en predecir el salario (wage) de los jugadores."
      ]
    },
    {
      "cell_type": "code",
      "execution_count": 1,
      "metadata": {
        "ExecuteTime": {
          "end_time": "2021-09-18T02:41:58.990442Z",
          "start_time": "2021-09-18T02:41:58.975440Z"
        },
        "id": "TFC4jqoJ1jco"
      },
      "outputs": [],
      "source": [
        "import pandas as pd\n",
        "import numpy as np\n",
        "from sklearn.model_selection import train_test_split, RandomizedSearchCV, GridSearchCV\n",
        "from sklearn.metrics import mean_absolute_error\n",
        "from sklearn.ensemble import RandomForestRegressor, GradientBoostingRegressor\n",
        "from sklearn.decomposition import PCA\n",
        "from sklearn.compose import ColumnTransformer\n",
        "from matplotlib import pyplot as plt\n",
        "from sklearn.preprocessing import (\n",
        "    MinMaxScaler,\n",
        "    OneHotEncoder,\n",
        "    OrdinalEncoder,\n",
        "    StandardScaler,\n",
        "    PolynomialFeatures,\n",
        "    FunctionTransformer,\n",
        ")"
      ]
    },
    {
      "cell_type": "code",
      "execution_count": 2,
      "metadata": {
        "ExecuteTime": {
          "end_time": "2021-09-18T02:27:33.239121Z",
          "start_time": "2021-09-18T02:27:33.232123Z"
        },
        "id": "97GuokBs1jcq"
      },
      "outputs": [],
      "source": [
        "random_state=42"
      ]
    },
    {
      "cell_type": "markdown",
      "metadata": {
        "id": "QC9nUq7L1jcs"
      },
      "source": [
        "## Preprocesamiento de datos"
      ]
    },
    {
      "cell_type": "code",
      "execution_count": 3,
      "metadata": {
        "ExecuteTime": {
          "end_time": "2021-09-18T02:17:59.339541Z",
          "start_time": "2021-09-18T02:17:59.223499Z"
        },
        "colab": {
          "base_uri": "https://localhost:8080/",
          "height": 540
        },
        "id": "N28ACIzy1jct",
        "outputId": "e5038858-9c22-46a2-ebc0-1b10e91beafb"
      },
      "outputs": [
        {
          "data": {
            "text/html": [
              "<div>\n",
              "<style scoped>\n",
              "    .dataframe tbody tr th:only-of-type {\n",
              "        vertical-align: middle;\n",
              "    }\n",
              "\n",
              "    .dataframe tbody tr th {\n",
              "        vertical-align: top;\n",
              "    }\n",
              "\n",
              "    .dataframe thead th {\n",
              "        text-align: right;\n",
              "    }\n",
              "</style>\n",
              "<table border=\"1\" class=\"dataframe\">\n",
              "  <thead>\n",
              "    <tr style=\"text-align: right;\">\n",
              "      <th></th>\n",
              "      <th>Name</th>\n",
              "      <th>Age</th>\n",
              "      <th>Overall</th>\n",
              "      <th>Wage</th>\n",
              "      <th>Preferred Foot</th>\n",
              "      <th>International Reputation</th>\n",
              "      <th>Weak Foot</th>\n",
              "      <th>Skill Moves</th>\n",
              "      <th>LS</th>\n",
              "      <th>ST</th>\n",
              "      <th>...</th>\n",
              "      <th>LongShots</th>\n",
              "      <th>Aggression</th>\n",
              "      <th>Interceptions</th>\n",
              "      <th>Positioning</th>\n",
              "      <th>Vision</th>\n",
              "      <th>Penalties</th>\n",
              "      <th>Composure</th>\n",
              "      <th>Marking</th>\n",
              "      <th>StandingTackle</th>\n",
              "      <th>SlidingTackle</th>\n",
              "    </tr>\n",
              "  </thead>\n",
              "  <tbody>\n",
              "    <tr>\n",
              "      <th>0</th>\n",
              "      <td>L. Messi</td>\n",
              "      <td>31</td>\n",
              "      <td>94</td>\n",
              "      <td>565000</td>\n",
              "      <td>Left</td>\n",
              "      <td>5.0</td>\n",
              "      <td>4.0</td>\n",
              "      <td>4.0</td>\n",
              "      <td>90.0</td>\n",
              "      <td>90.0</td>\n",
              "      <td>...</td>\n",
              "      <td>94.0</td>\n",
              "      <td>48.0</td>\n",
              "      <td>22.0</td>\n",
              "      <td>94.0</td>\n",
              "      <td>94.0</td>\n",
              "      <td>75.0</td>\n",
              "      <td>96.0</td>\n",
              "      <td>33.0</td>\n",
              "      <td>28.0</td>\n",
              "      <td>26.0</td>\n",
              "    </tr>\n",
              "    <tr>\n",
              "      <th>1</th>\n",
              "      <td>Cristiano Ronaldo</td>\n",
              "      <td>33</td>\n",
              "      <td>94</td>\n",
              "      <td>405000</td>\n",
              "      <td>Right</td>\n",
              "      <td>5.0</td>\n",
              "      <td>4.0</td>\n",
              "      <td>5.0</td>\n",
              "      <td>94.0</td>\n",
              "      <td>94.0</td>\n",
              "      <td>...</td>\n",
              "      <td>93.0</td>\n",
              "      <td>63.0</td>\n",
              "      <td>29.0</td>\n",
              "      <td>95.0</td>\n",
              "      <td>82.0</td>\n",
              "      <td>85.0</td>\n",
              "      <td>95.0</td>\n",
              "      <td>28.0</td>\n",
              "      <td>31.0</td>\n",
              "      <td>23.0</td>\n",
              "    </tr>\n",
              "    <tr>\n",
              "      <th>2</th>\n",
              "      <td>Neymar Jr</td>\n",
              "      <td>26</td>\n",
              "      <td>92</td>\n",
              "      <td>290000</td>\n",
              "      <td>Right</td>\n",
              "      <td>5.0</td>\n",
              "      <td>5.0</td>\n",
              "      <td>5.0</td>\n",
              "      <td>87.0</td>\n",
              "      <td>87.0</td>\n",
              "      <td>...</td>\n",
              "      <td>82.0</td>\n",
              "      <td>56.0</td>\n",
              "      <td>36.0</td>\n",
              "      <td>89.0</td>\n",
              "      <td>87.0</td>\n",
              "      <td>81.0</td>\n",
              "      <td>94.0</td>\n",
              "      <td>27.0</td>\n",
              "      <td>24.0</td>\n",
              "      <td>33.0</td>\n",
              "    </tr>\n",
              "    <tr>\n",
              "      <th>3</th>\n",
              "      <td>K. De Bruyne</td>\n",
              "      <td>27</td>\n",
              "      <td>91</td>\n",
              "      <td>355000</td>\n",
              "      <td>Right</td>\n",
              "      <td>4.0</td>\n",
              "      <td>5.0</td>\n",
              "      <td>4.0</td>\n",
              "      <td>85.0</td>\n",
              "      <td>85.0</td>\n",
              "      <td>...</td>\n",
              "      <td>91.0</td>\n",
              "      <td>76.0</td>\n",
              "      <td>61.0</td>\n",
              "      <td>87.0</td>\n",
              "      <td>94.0</td>\n",
              "      <td>79.0</td>\n",
              "      <td>88.0</td>\n",
              "      <td>68.0</td>\n",
              "      <td>58.0</td>\n",
              "      <td>51.0</td>\n",
              "    </tr>\n",
              "    <tr>\n",
              "      <th>4</th>\n",
              "      <td>E. Hazard</td>\n",
              "      <td>27</td>\n",
              "      <td>91</td>\n",
              "      <td>340000</td>\n",
              "      <td>Right</td>\n",
              "      <td>4.0</td>\n",
              "      <td>4.0</td>\n",
              "      <td>4.0</td>\n",
              "      <td>86.0</td>\n",
              "      <td>86.0</td>\n",
              "      <td>...</td>\n",
              "      <td>80.0</td>\n",
              "      <td>54.0</td>\n",
              "      <td>41.0</td>\n",
              "      <td>87.0</td>\n",
              "      <td>89.0</td>\n",
              "      <td>86.0</td>\n",
              "      <td>91.0</td>\n",
              "      <td>34.0</td>\n",
              "      <td>27.0</td>\n",
              "      <td>22.0</td>\n",
              "    </tr>\n",
              "  </tbody>\n",
              "</table>\n",
              "<p>5 rows × 63 columns</p>\n",
              "</div>"
            ],
            "text/plain": [
              "                Name  Age  Overall    Wage Preferred Foot  \\\n",
              "0           L. Messi   31       94  565000           Left   \n",
              "1  Cristiano Ronaldo   33       94  405000          Right   \n",
              "2          Neymar Jr   26       92  290000          Right   \n",
              "3       K. De Bruyne   27       91  355000          Right   \n",
              "4          E. Hazard   27       91  340000          Right   \n",
              "\n",
              "   International Reputation  Weak Foot  Skill Moves    LS    ST  ...  \\\n",
              "0                       5.0        4.0          4.0  90.0  90.0  ...   \n",
              "1                       5.0        4.0          5.0  94.0  94.0  ...   \n",
              "2                       5.0        5.0          5.0  87.0  87.0  ...   \n",
              "3                       4.0        5.0          4.0  85.0  85.0  ...   \n",
              "4                       4.0        4.0          4.0  86.0  86.0  ...   \n",
              "\n",
              "   LongShots  Aggression  Interceptions  Positioning  Vision  Penalties  \\\n",
              "0       94.0        48.0           22.0         94.0    94.0       75.0   \n",
              "1       93.0        63.0           29.0         95.0    82.0       85.0   \n",
              "2       82.0        56.0           36.0         89.0    87.0       81.0   \n",
              "3       91.0        76.0           61.0         87.0    94.0       79.0   \n",
              "4       80.0        54.0           41.0         87.0    89.0       86.0   \n",
              "\n",
              "   Composure  Marking  StandingTackle  SlidingTackle  \n",
              "0       96.0     33.0            28.0           26.0  \n",
              "1       95.0     28.0            31.0           23.0  \n",
              "2       94.0     27.0            24.0           33.0  \n",
              "3       88.0     68.0            58.0           51.0  \n",
              "4       91.0     34.0            27.0           22.0  \n",
              "\n",
              "[5 rows x 63 columns]"
            ]
          },
          "execution_count": 3,
          "metadata": {},
          "output_type": "execute_result"
        }
      ],
      "source": [
        "# Carguemos los datos:\n",
        "data = pd.read_csv('players.csv')\n",
        "data.head()"
      ]
    },
    {
      "cell_type": "code",
      "execution_count": null,
      "metadata": {
        "ExecuteTime": {
          "end_time": "2021-09-18T02:19:01.470616Z",
          "start_time": "2021-09-18T02:19:01.329619Z"
        },
        "id": "7niShVo61jct"
      },
      "outputs": [],
      "source": [
        "# Veamos la descripción del dataset:\n",
        "### CÓDIGO AQUÍ ###\n"
      ]
    },
    {
      "cell_type": "code",
      "execution_count": null,
      "metadata": {
        "id": "c443TTgd2dMf"
      },
      "outputs": [],
      "source": [
        "#Veamos la distribución de las columnas\n",
        "### CÓDIGO AQUÍ ###"
      ]
    },
    {
      "cell_type": "code",
      "execution_count": null,
      "metadata": {
        "ExecuteTime": {
          "end_time": "2021-09-18T02:20:30.809890Z",
          "start_time": "2021-09-18T02:20:30.800892Z"
        },
        "colab": {
          "base_uri": "https://localhost:8080/"
        },
        "id": "mXzW10Ll1jcu",
        "outputId": "63c3e87a-4af1-451a-cc8c-0a785bf157fe"
      },
      "outputs": [
        {
          "data": {
            "text/plain": [
              "Right    11969\n",
              "Left      3957\n",
              "Name: Preferred Foot, dtype: int64"
            ]
          },
          "execution_count": 7,
          "metadata": {},
          "output_type": "execute_result"
        }
      ],
      "source": [
        "# Obtengamos la distribución de valores de la variable `Preferred Foot`:\n",
        "# tip: pandas function value_counts()\n",
        "### CÓDIGO AQUÍ ###\n"
      ]
    },
    {
      "cell_type": "markdown",
      "metadata": {
        "id": "gY8naq0L1jcv"
      },
      "source": [
        "## Regresión"
      ]
    },
    {
      "cell_type": "markdown",
      "metadata": {
        "ExecuteTime": {
          "end_time": "2021-03-11T04:51:55.093741Z",
          "start_time": "2021-03-11T04:51:55.091740Z"
        },
        "id": "6DpUR5sT1jcw"
      },
      "source": [
        "**Nota:** Dejaremos la coulmna `Name` en el datafrme para poder identificar a los jugadores, pero **la debemos excluir** al definir las variables `X_train`, `y_train`, `X_val`, `y_val`, `X_test`, and `y_test`."
      ]
    },
    {
      "cell_type": "code",
      "execution_count": null,
      "metadata": {
        "ExecuteTime": {
          "end_time": "2021-09-18T03:12:15.355010Z",
          "start_time": "2021-09-18T03:12:15.335012Z"
        },
        "id": "lwUBO0Mu1jcw"
      },
      "outputs": [],
      "source": [
        "# Separemos los datos en conjuntos de entrenamiento (80 %) y prueba (20 %):\n",
        "### CÓDIGO AQUÍ ###"
      ]
    },
    {
      "cell_type": "code",
      "execution_count": null,
      "metadata": {
        "id": "rYY2fNdH4JRY"
      },
      "outputs": [],
      "source": [
        "#Definimos las transformaciones\n",
        "cat_cols = X_train.select_dtypes(include=object).columns\n",
        "num_cols = X_train.select_dtypes(include=np.number).columns\n",
        "\n",
        "categorical_transformer = ### CÓDICO AQUÍ### \n",
        "numerical_transformer = 'passthrough'\n",
        "\n",
        "preprocessor = ### CÓDIGO AQUÍ ###\n",
        "\n",
        "#Definimos nuestro regresor\n",
        "rf_base = RandomForestRegressor(random_state=random_state)\n",
        "gb_base = GradientBoostingRegressor(random_state=random_state)\n",
        "\n",
        "#Definimos los pipelines\n",
        "pipeline_rf = ### CÓDIGO AQUÍ ###\n",
        "pipeline_gb = ### CÓDIGO AQUÍ ### \n",
        "\n",
        "# Definamos la malla de parámetros sobre la que haremos la búsqueda:\n",
        "param_grid = ### CÓDIGO AQUÍ ###\n",
        "\n",
        "# Definamos nuestros modelo mediante GridSearchCV:\n",
        "rf = GridSearchCV(pipeline_rf, cv=3, param_grid=param_grid)\n",
        "gb = GridSearchCV(pipeline_gb, cv=3, param_grid=param_grid)"
      ]
    },
    {
      "cell_type": "code",
      "execution_count": null,
      "metadata": {
        "id": "m9RqB8WK5DNi"
      },
      "outputs": [],
      "source": [
        "%%time\n",
        "# Entrenemos el random forest:\n",
        "rf.fit(X_train, y_train)\n",
        "# Entrenemos el gradient boosting:\n",
        "gb.fit(X_train, y_train)"
      ]
    },
    {
      "cell_type": "code",
      "execution_count": null,
      "metadata": {
        "ExecuteTime": {
          "end_time": "2021-09-18T03:54:08.785030Z",
          "start_time": "2021-09-18T03:54:08.773030Z"
        },
        "id": "21PznuEd1jcw"
      },
      "outputs": [],
      "source": [
        "print(rf.best_params_)\n",
        "print(gb.best_params_)"
      ]
    },
    {
      "cell_type": "code",
      "execution_count": null,
      "metadata": {
        "id": "JUWh_1e25LtF"
      },
      "outputs": [],
      "source": [
        "# Obtengamos el R^2 y el MAE de entrenamiento para cada modelo:\n",
        "print(\"Train set\")\n",
        "for model in (rf, gb):\n",
        "    print(f\"Model: {'Random Forest' if model == rf else 'Gradient Boosting'}\")\n",
        "    print(f'R^2: {model.score(X_train, y_train)}')\n",
        "    print(f'MAE: {mean_absolute_error(y_train, model.predict(X_train))}')\n",
        "    print('\\n')\n",
        "\n",
        "print(\"Test set\")\n",
        "for model in (rf, gb):\n",
        "    print(f\"Model: {'Random Forest' if model == rf else 'Gradient Boosting'}\")\n",
        "    print(f'R^2: {model.score(X_test, y_test)}')\n",
        "    print(f'MAE: {mean_absolute_error(y_test, model.predict(X_test))}')\n",
        "    print('\\n')"
      ]
    },
    {
      "cell_type": "code",
      "execution_count": null,
      "metadata": {
        "id": "p6rkh78DMfgv"
      },
      "outputs": [],
      "source": [
        "# Veamos los datos junto con las predicciones:\n",
        "pd.concat([\n",
        "    data.drop(columns='Wage').reset_index(drop=True),\n",
        "    data['Wage'].reset_index(drop=True),\n",
        "    pd.DataFrame({'rf_predicted_wage': rf.predict(data.drop(columns=['Name', 'Wage']))}),\n",
        "    pd.DataFrame({'gb_predicted_wage': gb.predict(data.drop(columns=['Name', 'Wage']))})\n",
        "], axis=1)"
      ]
    },
    {
      "cell_type": "code",
      "execution_count": null,
      "metadata": {
        "id": "AzVWdj40Motx"
      },
      "outputs": [],
      "source": []
    },
    {
      "cell_type": "markdown",
      "metadata": {
        "id": "7Vrh4cwD5cs4"
      },
      "source": [
        "Explicabilidad"
      ]
    },
    {
      "cell_type": "code",
      "execution_count": null,
      "metadata": {
        "id": "iRcehFQV5cDP"
      },
      "outputs": [],
      "source": [
        "!pip install shap"
      ]
    },
    {
      "cell_type": "code",
      "execution_count": null,
      "metadata": {
        "id": "o7CPOrhT5gz3"
      },
      "outputs": [],
      "source": [
        "import shap\n",
        "from IPython.display import HTML"
      ]
    },
    {
      "cell_type": "code",
      "execution_count": null,
      "metadata": {
        "id": "XQU-Fhns5jQ7"
      },
      "outputs": [],
      "source": [
        "# Entrenamos nuestro pipeline con los mejores parámetros encontrados en la validación cruzada\n",
        "pipeline_gb.set_params(**gb.best_params_)\n",
        "pipeline_gb.fit(X_train, y_train)"
      ]
    },
    {
      "cell_type": "code",
      "execution_count": null,
      "metadata": {
        "id": "Mxtp14VH5pP4"
      },
      "outputs": [],
      "source": [
        "# Aplicamos el preproceso a los datos\n",
        "X_train_preprocessed = ### CÓDIGO AQUÍ ###\n",
        "X_test_preprocessed = ### CÓDIGO AQUÍ ###"
      ]
    },
    {
      "cell_type": "code",
      "execution_count": null,
      "metadata": {
        "id": "b6w7FkHcL4so"
      },
      "outputs": [],
      "source": [
        "# Entrenemos nuestro modelo de explicabilidad\n",
        "gb_explainer = ### CÓDIGO AQUÍ ###\n",
        "train_gb_shap_values = ### CÓDIGO AQUÍ ###"
      ]
    },
    {
      "cell_type": "code",
      "execution_count": null,
      "metadata": {
        "id": "ktwm7XzTMzv8"
      },
      "outputs": [],
      "source": [
        "# Summary plot\n",
        "### CÓDIGO AQUÍ ###"
      ]
    },
    {
      "cell_type": "code",
      "execution_count": null,
      "metadata": {
        "id": "zyGO-nBQM_DG"
      },
      "outputs": [],
      "source": [
        "# Grafiquemos los valores SHAP para un ejemplo del conjunto de test\n",
        "### CÓDIGO AQUÍ ###"
      ]
    },
    {
      "cell_type": "code",
      "execution_count": null,
      "metadata": {
        "id": "9OSkWrMiNMKl"
      },
      "outputs": [],
      "source": [
        "# Grafiquemos la dependencia de los valores SHAP con la variable \"Age\""
      ]
    }
  ],
  "metadata": {
    "colab": {
      "include_colab_link": true,
      "provenance": []
    },
    "kernelspec": {
      "display_name": ".venv",
      "language": "python",
      "name": "python3"
    },
    "language_info": {
      "codemirror_mode": {
        "name": "ipython",
        "version": 3
      },
      "file_extension": ".py",
      "mimetype": "text/x-python",
      "name": "python",
      "nbconvert_exporter": "python",
      "pygments_lexer": "ipython3",
      "version": "3.10.12"
    },
    "varInspector": {
      "cols": {
        "lenName": 16,
        "lenType": 16,
        "lenVar": 40
      },
      "kernels_config": {
        "python": {
          "delete_cmd_postfix": "",
          "delete_cmd_prefix": "del ",
          "library": "var_list.py",
          "varRefreshCmd": "print(var_dic_list())"
        },
        "r": {
          "delete_cmd_postfix": ") ",
          "delete_cmd_prefix": "rm(",
          "library": "var_list.r",
          "varRefreshCmd": "cat(var_dic_list()) "
        }
      },
      "types_to_exclude": [
        "module",
        "function",
        "builtin_function_or_method",
        "instance",
        "_Feature"
      ],
      "window_display": false
    }
  },
  "nbformat": 4,
  "nbformat_minor": 0
}
