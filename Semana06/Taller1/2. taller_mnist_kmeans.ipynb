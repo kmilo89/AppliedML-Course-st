{
 "cells": [
  {
   "cell_type": "markdown",
   "id": "a830b756",
   "metadata": {},
   "source": [
    "# Taller: Agrupamiento de Dígitos con K-Means y PCA\n",
    "\n",
    "En este taller aplicaremos técnicas de aprendizaje no supervisado para **agrupar imágenes de dígitos escritos a mano** usando el dataset **MNIST**.\n",
    "\n",
    "**Objetivo:** Usar `KMeans` para encontrar grupos similares de imágenes, sin usar las etiquetas reales (dígitos del 0 al 9).\n",
    "\n",
    "---"
   ]
  },
  {
   "cell_type": "code",
   "execution_count": null,
   "id": "55b5e655",
   "metadata": {},
   "outputs": [],
   "source": [
    "from sklearn.datasets import load_digits\n",
    "import numpy as np\n",
    "import pandas as pd\n",
    "import matplotlib.pyplot as plt\n",
    "import seaborn as sns\n",
    "from sklearn.pipeline import Pipeline\n",
    "from sklearn.decomposition import PCA\n",
    "from sklearn.cluster import KMeans\n",
    "from sklearn.metrics import confusion_matrix, classification_report\n",
    "from sklearn.preprocessing import StandardScaler"
   ]
  },
  {
   "cell_type": "markdown",
   "id": "07b3339f",
   "metadata": {},
   "source": [
    "## Cargar datos"
   ]
  },
  {
   "cell_type": "code",
   "execution_count": null,
   "id": "3a911726",
   "metadata": {},
   "outputs": [],
   "source": [
    "digits = load_digits()\n",
    "X = digits.data\n",
    "y = digits.target  # solo para evaluación\n",
    "print(\"Shape of dataset:\", X.shape)"
   ]
  },
  {
   "cell_type": "code",
   "execution_count": null,
   "id": "d659463c",
   "metadata": {},
   "outputs": [],
   "source": [
    "# Mostrar algunos dígitos\n",
    "### CÓDIGO AQUÍ ###"
   ]
  },
  {
   "cell_type": "code",
   "execution_count": null,
   "id": "24d74aed",
   "metadata": {},
   "outputs": [],
   "source": [
    "# Crear el Pipeline para escalar y generar el PCA para 2 componentes\n",
    "### CÓDIGO AQUÍ ###"
   ]
  },
  {
   "cell_type": "code",
   "execution_count": null,
   "id": "ce337fa8",
   "metadata": {},
   "outputs": [],
   "source": [
    "# Visualización de las 2 componentes del pca y eqtiquetar con las y reales\n",
    "### CÓDIGO AQUÍ ###"
   ]
  },
  {
   "cell_type": "code",
   "execution_count": null,
   "id": "bde0170f",
   "metadata": {},
   "outputs": [],
   "source": [
    "# Crear el pipeline con kmeans usando 10 clusters, (escalizar y aplicar PCA)\n",
    "### CÓDIGO AQUÍ ###"
   ]
  },
  {
   "cell_type": "code",
   "execution_count": null,
   "id": "354a4bc6",
   "metadata": {},
   "outputs": [],
   "source": [
    "# Visualizar los clusters en espacio PCA\n",
    "### CÓDIGO AQUÍ ###"
   ]
  },
  {
   "cell_type": "code",
   "execution_count": null,
   "id": "975f7ac5",
   "metadata": {},
   "outputs": [],
   "source": [
    "# Emplementar metricas de desempeño\n",
    "### CÓDIGO AQUÍ ###"
   ]
  },
  {
   "cell_type": "markdown",
   "id": "c36e770b",
   "metadata": {},
   "source": [
    "### Actividades sugeridas\n",
    "\n",
    "1. Cambia el número de componentes en PCA a 10 o 50. ¿Mejora el agrupamiento?\n",
    "2. Cambia el número de clusters en KMeans a 9, 11 o 12. ¿Qué pasa?\n",
    "3. Visualiza imágenes de un solo cluster para ver qué tan coherente es.\n",
    "---"
   ]
  }
 ],
 "metadata": {
  "kernelspec": {
   "display_name": ".venv",
   "language": "python",
   "name": "python3"
  },
  "language_info": {
   "codemirror_mode": {
    "name": "ipython",
    "version": 3
   },
   "file_extension": ".py",
   "mimetype": "text/x-python",
   "name": "python",
   "nbconvert_exporter": "python",
   "pygments_lexer": "ipython3",
   "version": "3.10.12"
  }
 },
 "nbformat": 4,
 "nbformat_minor": 5
}
